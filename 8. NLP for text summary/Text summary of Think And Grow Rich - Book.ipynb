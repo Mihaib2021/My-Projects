{
 "cells": [
  {
   "cell_type": "code",
   "execution_count": 1,
   "id": "4949fdc1",
   "metadata": {},
   "outputs": [],
   "source": [
    "# Text Summarization using NLP"
   ]
  },
  {
   "cell_type": "code",
   "execution_count": 2,
   "id": "8ce496c1",
   "metadata": {},
   "outputs": [],
   "source": [
    "# Install BeautifulSoup 4 - pip install beautifulsoup4\n",
    "# Install lxml - pip install lxml"
   ]
  },
  {
   "cell_type": "code",
   "execution_count": 3,
   "id": "38461df8",
   "metadata": {},
   "outputs": [
    {
     "name": "stderr",
     "output_type": "stream",
     "text": [
      "[nltk_data] Downloading package stopwords to\n",
      "[nltk_data]     C:\\Users\\mihai\\AppData\\Roaming\\nltk_data...\n",
      "[nltk_data]   Package stopwords is already up-to-date!\n"
     ]
    }
   ],
   "source": [
    "# Importing the libraries\n",
    "import bs4 as bs\n",
    "import urllib.request\n",
    "import re\n",
    "import nltk\n",
    "nltk.download('stopwords')\n",
    "import heapq"
   ]
  },
  {
   "cell_type": "code",
   "execution_count": 4,
   "id": "b87a49b9",
   "metadata": {},
   "outputs": [],
   "source": [
    "#!pip install docx2txt"
   ]
  },
  {
   "cell_type": "code",
   "execution_count": 5,
   "id": "f51fb41a",
   "metadata": {},
   "outputs": [],
   "source": [
    "import docx2txt\n",
    " \n",
    "# read in word file\n",
    "fileReader = docx2txt.process(\"Think_and_grow_rich.docx\")"
   ]
  },
  {
   "cell_type": "code",
   "execution_count": 6,
   "id": "860281a1",
   "metadata": {},
   "outputs": [],
   "source": [
    "# Parsing the data/ creating BeautifulSoup object\n",
    "soup = bs.BeautifulSoup(fileReader)"
   ]
  },
  {
   "cell_type": "code",
   "execution_count": 7,
   "id": "f8de125d",
   "metadata": {},
   "outputs": [],
   "source": [
    "# Gettings the data source\n",
    "#source = urllib.request.urlopen('https://en.wikipedia.org/wiki/Global_warming').read()"
   ]
  },
  {
   "cell_type": "markdown",
   "id": "3de05f2c",
   "metadata": {},
   "source": [
    "# Parsing the data/ creating BeautifulSoup object"
   ]
  },
  {
   "cell_type": "code",
   "execution_count": 8,
   "id": "93721fa1",
   "metadata": {},
   "outputs": [],
   "source": [
    "# Fetching the data\n",
    "text = \"\"\n",
    "for paragraph in soup.find_all('p'):\n",
    "    text += paragraph.text"
   ]
  },
  {
   "cell_type": "code",
   "execution_count": 9,
   "id": "8375f952",
   "metadata": {},
   "outputs": [],
   "source": [
    "# Preprocessing the data\n",
    "text = re.sub(r'\\[[0-9]*\\]',' ',text)\n",
    "text = re.sub(r'\\s+',' ',text)\n",
    "clean_text = text.lower()\n",
    "clean_text = re.sub(r'\\W',' ',clean_text)\n",
    "clean_text = re.sub(r'\\d',' ',clean_text)\n",
    "clean_text = re.sub(r'\\s+',' ',clean_text)"
   ]
  },
  {
   "cell_type": "code",
   "execution_count": 10,
   "id": "8945b6f7",
   "metadata": {},
   "outputs": [],
   "source": [
    "# Tokenize sentences\n",
    "sentences = nltk.sent_tokenize(text)"
   ]
  },
  {
   "cell_type": "code",
   "execution_count": 11,
   "id": "04586dcb",
   "metadata": {},
   "outputs": [],
   "source": [
    "# Stopword list\n",
    "stop_words = nltk.corpus.stopwords.words('english')"
   ]
  },
  {
   "cell_type": "code",
   "execution_count": 12,
   "id": "647b1050",
   "metadata": {},
   "outputs": [],
   "source": [
    "# Word counts \n",
    "word2count = {}\n",
    "for word in nltk.word_tokenize(clean_text):\n",
    "    if word not in stop_words:\n",
    "        if word not in word2count.keys():\n",
    "            word2count[word] = 1\n",
    "        else:\n",
    "            word2count[word] += 1"
   ]
  },
  {
   "cell_type": "code",
   "execution_count": 13,
   "id": "cc8a9369",
   "metadata": {},
   "outputs": [],
   "source": [
    "# Converting counts to weights\n",
    "max_count = max(word2count.values())\n",
    "for key in word2count.keys():\n",
    "    word2count[key] = word2count[key]/max_count"
   ]
  },
  {
   "cell_type": "code",
   "execution_count": 14,
   "id": "f002e89b",
   "metadata": {},
   "outputs": [],
   "source": [
    "# Product sentence scores    \n",
    "sent2score = {}\n",
    "for sentence in sentences:\n",
    "    for word in nltk.word_tokenize(sentence.lower()):\n",
    "        if word in word2count.keys():\n",
    "            if len(sentence.split(' ')) < 25:\n",
    "                if sentence not in sent2score.keys():\n",
    "                    sent2score[sentence] = word2count[word]\n",
    "                else:\n",
    "                    sent2score[sentence] += word2count[word]"
   ]
  },
  {
   "cell_type": "code",
   "execution_count": 15,
   "id": "062dbbed",
   "metadata": {},
   "outputs": [
    {
     "name": "stdout",
     "output_type": "stream",
     "text": [
      "-----------------------------------------------------------------------------------------------------------------------\n",
      "It is the agency of communication between one’s conscious, or reasoning mind, and the four sources from which one may receive thought stimuli.\n",
      "Such an impulse may be passed from one mind to another, by suggestion, or created by an individual in his own mind.\n",
      "One thing we all know, if one does not possess PERSISTENCE, one does not achieve noteworthy success in any calling.\n",
      "One does not become money conscious by filling one’s mind with negative emotions.\n",
      "The awareness of this power may come to you in the first chapter, or it may flash into your mind in some subsequent chapter.\n",
      "A mind so dominated may, at will, give the subconscious mind instructions, which it will accept and act upon immediately.\n",
      "He recognized that fact, but he also recognized the truth that the only limitation is that which one sets up in one’s own mind.\n",
      "If one has superior talent, training, experience, one may accumulate riches in large amounts.\n",
      "One may be temporarily dishonest by force of circumstances over which one has no control, without permanent damage.\n",
      "You may VOLUNTARILY plant in your subconscious mind any plan, thought, or purpose which you desire to translate into its physical or monetary equivalent.\n",
      "The love which one feels for parents, or children is quite different from that which one feels for one’s sweetheart.\n",
      "One’s subconscious mind, wherein is stored every sense impression and thought impulse which ever reached the brain through any of the five senses 3.\n",
      "Without money, one must take what one is offered, and be glad to get it.\n",
      "Love may come and go, times without number, but there are no two love experiences which affect one in just the same way.\n",
      "May one refuse to adapt one’s self to the LAW OF ECONOMICS?\n",
      "Verily, if one has PERSISTENCE, one can get along very well without many other qualities.\n",
      "Only by so doing can one be sure of maintaining that state of mind known as a BURNING DESIRE TO WIN, essential to success.\n",
      "These are the steps by which one may control one’s economic destiny.\n",
      "In extreme cases, the presence of any combination of these emotions in the mind may destroy one’s reason.\n",
      "So subtle and deeply seated is the emotion of fear that one may go through life burdened with it, never recognizing its presence.\n",
      "I must confess I know of no better country, where one may find greater opportunities to accumulate riches.\n",
      "The ease with which lack of persistence may be conquered will depend entirely upon the INTENSITY OF ONE’S DESIRE.\n",
      "It is through this faculty that one individual may “tune in,” or communicate with the subconscious minds of other men.\n",
      "Belief in one’s ability to carry out a plan encourages one to follow the plan through with persistence.\n",
      "During all those years not one ray of hope, not one promise of attainment of his DESIRE had been held out to him.\n",
      "The “mixing” of faith with a plan, or purpose, intended for submission to the subconscious mind, may be done ONLY through the imagination.\n",
      "THREE FEET FROM GOLD One of the most common causes of failure is the habit of quitting when one is overtaken by temporary defeat.\n",
      "Fear of ill health breaks down Nature’s body resistance, and creates a favorable condition for any form of disease one may contact.\n",
      "The leader who fears that one of his followers may take his position is practically sure to realize that fear sooner or later.\n",
      "Remember that the subconscious mind may be voluntarily directed only through habit, under the directions given in the chapter on FAITH.\n"
     ]
    }
   ],
   "source": [
    "# Gettings best lines             \n",
    "best_sentences = heapq.nlargest(30, sent2score, key=sent2score.get)\n",
    "\n",
    "print('-----------------------------------------------------------------------------------------------------------------------')\n",
    "for sentence in best_sentences:\n",
    "    print(sentence)"
   ]
  },
  {
   "cell_type": "code",
   "execution_count": null,
   "id": "3dbb7a4c",
   "metadata": {},
   "outputs": [],
   "source": []
  }
 ],
 "metadata": {
  "kernelspec": {
   "display_name": "Python 3 (ipykernel)",
   "language": "python",
   "name": "python3"
  },
  "language_info": {
   "codemirror_mode": {
    "name": "ipython",
    "version": 3
   },
   "file_extension": ".py",
   "mimetype": "text/x-python",
   "name": "python",
   "nbconvert_exporter": "python",
   "pygments_lexer": "ipython3",
   "version": "3.9.7"
  }
 },
 "nbformat": 4,
 "nbformat_minor": 5
}
